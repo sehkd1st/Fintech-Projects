{
 "cells": [
  {
   "cell_type": "markdown",
   "id": "4bd0a10c",
   "metadata": {},
   "source": [
    "# LSTM FOR STOCK PRICE PREDICTION-(BULLISH MARKET CYCLE)\n",
    "This script uses LSTM to predict stock price in a Bullish Market Cycle"
   ]
  },
  {
   "cell_type": "code",
   "execution_count": 1,
   "id": "7640fa80",
   "metadata": {
    "scrolled": true
   },
   "outputs": [
    {
     "name": "stdout",
     "output_type": "stream",
     "text": [
      "Requirement already satisfied: scikeras in c:\\users\\ekefe\\anaconda3\\lib\\site-packages (0.11.0)Note: you may need to restart the kernel to use updated packages.\n",
      "\n",
      "Requirement already satisfied: packaging>=0.21 in c:\\users\\ekefe\\anaconda3\\lib\\site-packages (from scikeras) (23.0)\n",
      "Requirement already satisfied: scikit-learn>=1.0.0 in c:\\users\\ekefe\\anaconda3\\lib\\site-packages (from scikeras) (1.2.2)\n",
      "Requirement already satisfied: tensorflow-io-gcs-filesystem<0.32,>=0.23.1 in c:\\users\\ekefe\\anaconda3\\lib\\site-packages (from scikeras) (0.31.0)\n",
      "Requirement already satisfied: numpy>=1.17.3 in c:\\users\\ekefe\\anaconda3\\lib\\site-packages (from scikit-learn>=1.0.0->scikeras) (1.24.3)\n",
      "Requirement already satisfied: scipy>=1.3.2 in c:\\users\\ekefe\\anaconda3\\lib\\site-packages (from scikit-learn>=1.0.0->scikeras) (1.10.1)\n",
      "Requirement already satisfied: joblib>=1.1.1 in c:\\users\\ekefe\\anaconda3\\lib\\site-packages (from scikit-learn>=1.0.0->scikeras) (1.2.0)\n",
      "Requirement already satisfied: threadpoolctl>=2.0.0 in c:\\users\\ekefe\\anaconda3\\lib\\site-packages (from scikit-learn>=1.0.0->scikeras) (2.2.0)\n"
     ]
    }
   ],
   "source": [
    "pip install scikeras"
   ]
  },
  {
   "cell_type": "code",
   "execution_count": 2,
   "id": "4ecff51e",
   "metadata": {},
   "outputs": [],
   "source": [
    "\n",
    "# Import necessary libraries\n",
    "import pandas as pd\n",
    "import numpy as np\n",
    "import matplotlib.pyplot as plt\n",
    "import yfinance as yf\n",
    "from sklearn.preprocessing import MinMaxScaler\n",
    "from sklearn.metrics import mean_squared_error\n",
    "from keras.models import Sequential\n",
    "from keras.layers import LSTM, Dense\n",
    "from scikeras.wrappers import KerasRegressor\n",
    "from sklearn.model_selection import cross_val_score, KFold\n",
    "\n"
   ]
  },
  {
   "cell_type": "code",
   "execution_count": 3,
   "id": "80ece614",
   "metadata": {},
   "outputs": [
    {
     "name": "stdout",
     "output_type": "stream",
     "text": [
      "[*********************100%***********************]  1 of 1 completed\n"
     ]
    }
   ],
   "source": [
    "# Fetch data from Yahoo Finance\n",
    "data = yf.download('^FTSE', start='2009-01-01', end='2015-06-30')\n"
   ]
  },
  {
   "cell_type": "code",
   "execution_count": 4,
   "id": "9788e7aa",
   "metadata": {},
   "outputs": [],
   "source": [
    "# Drop NA values\n",
    "data.dropna(inplace=True)\n"
   ]
  },
  {
   "cell_type": "code",
   "execution_count": 5,
   "id": "651ab37d",
   "metadata": {},
   "outputs": [],
   "source": [
    "# Specify the target variable\n",
    "target = 'Close'"
   ]
  },
  {
   "cell_type": "code",
   "execution_count": 6,
   "id": "bfab72ca",
   "metadata": {},
   "outputs": [],
   "source": [
    "# Split data into X and y\n",
    "X = data.drop(target, axis=1)\n",
    "y = data[[target]]"
   ]
  },
  {
   "cell_type": "code",
   "execution_count": 7,
   "id": "5dd414e8",
   "metadata": {
    "scrolled": true
   },
   "outputs": [],
   "source": [
    "# Initialize a scaler and fit it to the features\n",
    "scaler_X = MinMaxScaler(feature_range=(0, 1))\n",
    "X = scaler_X.fit_transform(X)"
   ]
  },
  {
   "cell_type": "code",
   "execution_count": 8,
   "id": "5917ffd4",
   "metadata": {},
   "outputs": [],
   "source": [
    "# Initialize a scaler and fit it to the target\n",
    "scaler_y = MinMaxScaler(feature_range=(0, 1))\n",
    "y = scaler_y.fit_transform(y)"
   ]
  },
  {
   "cell_type": "code",
   "execution_count": 9,
   "id": "c3e7b381",
   "metadata": {},
   "outputs": [],
   "source": [
    "# Reshape input to be [samples, time steps, features]\n",
    "X = np.reshape(X, (X.shape[0], 1, X.shape[1]))"
   ]
  },
  {
   "cell_type": "code",
   "execution_count": 10,
   "id": "0224ba54",
   "metadata": {},
   "outputs": [],
   "source": [
    "# Split the dataset into training and testing sets\n",
    "train_size = int(0.80 * len(X))\n",
    "X_train, X_test = X[:train_size], X[train_size:]\n",
    "y_train, y_test = y[:train_size], y[train_size:]"
   ]
  },
  {
   "cell_type": "markdown",
   "id": "7872bb4f",
   "metadata": {},
   "source": [
    "# LSTM MODEL DEVELOPMENT "
   ]
  },
  {
   "cell_type": "code",
   "execution_count": 11,
   "id": "6e8aa9f6",
   "metadata": {},
   "outputs": [],
   "source": [
    "# Define the LSTM model\n",
    "model = Sequential()\n",
    "model.add(LSTM(50, input_shape=(X_train.shape[1], X_train.shape[2])))\n",
    "model.add(Dense(1))\n",
    "model.compile(loss='mean_squared_error', optimizer='adam')"
   ]
  },
  {
   "cell_type": "code",
   "execution_count": 12,
   "id": "c5e8e2c1",
   "metadata": {},
   "outputs": [
    {
     "name": "stdout",
     "output_type": "stream",
     "text": [
      "Epoch 1/50\n",
      "1309/1309 - 4s - loss: 0.0063 - 4s/epoch - 3ms/step\n",
      "Epoch 2/50\n",
      "1309/1309 - 2s - loss: 1.1494e-04 - 2s/epoch - 1ms/step\n",
      "Epoch 3/50\n",
      "1309/1309 - 2s - loss: 9.1197e-05 - 2s/epoch - 1ms/step\n",
      "Epoch 4/50\n",
      "1309/1309 - 2s - loss: 8.7351e-05 - 2s/epoch - 1ms/step\n",
      "Epoch 5/50\n",
      "1309/1309 - 2s - loss: 7.7464e-05 - 2s/epoch - 1ms/step\n",
      "Epoch 6/50\n",
      "1309/1309 - 2s - loss: 7.4342e-05 - 2s/epoch - 1ms/step\n",
      "Epoch 7/50\n",
      "1309/1309 - 2s - loss: 5.2681e-05 - 2s/epoch - 1ms/step\n",
      "Epoch 8/50\n",
      "1309/1309 - 2s - loss: 4.8019e-05 - 2s/epoch - 1ms/step\n",
      "Epoch 9/50\n",
      "1309/1309 - 2s - loss: 4.0736e-05 - 2s/epoch - 1ms/step\n",
      "Epoch 10/50\n",
      "1309/1309 - 2s - loss: 3.5333e-05 - 2s/epoch - 1ms/step\n",
      "Epoch 11/50\n",
      "1309/1309 - 2s - loss: 3.0247e-05 - 2s/epoch - 1ms/step\n",
      "Epoch 12/50\n",
      "1309/1309 - 2s - loss: 2.2898e-05 - 2s/epoch - 1ms/step\n",
      "Epoch 13/50\n",
      "1309/1309 - 2s - loss: 2.1910e-05 - 2s/epoch - 1ms/step\n",
      "Epoch 14/50\n",
      "1309/1309 - 2s - loss: 1.7365e-05 - 2s/epoch - 1ms/step\n",
      "Epoch 15/50\n",
      "1309/1309 - 2s - loss: 1.3862e-05 - 2s/epoch - 1ms/step\n",
      "Epoch 16/50\n",
      "1309/1309 - 2s - loss: 1.8132e-05 - 2s/epoch - 1ms/step\n",
      "Epoch 17/50\n",
      "1309/1309 - 2s - loss: 1.1903e-05 - 2s/epoch - 1ms/step\n",
      "Epoch 18/50\n",
      "1309/1309 - 2s - loss: 1.7260e-05 - 2s/epoch - 1ms/step\n",
      "Epoch 19/50\n",
      "1309/1309 - 2s - loss: 1.3609e-05 - 2s/epoch - 1ms/step\n",
      "Epoch 20/50\n",
      "1309/1309 - 2s - loss: 1.0866e-05 - 2s/epoch - 1ms/step\n",
      "Epoch 21/50\n",
      "1309/1309 - 2s - loss: 1.1230e-05 - 2s/epoch - 1ms/step\n",
      "Epoch 22/50\n",
      "1309/1309 - 2s - loss: 1.0552e-05 - 2s/epoch - 1ms/step\n",
      "Epoch 23/50\n",
      "1309/1309 - 2s - loss: 1.0862e-05 - 2s/epoch - 1ms/step\n",
      "Epoch 24/50\n",
      "1309/1309 - 2s - loss: 9.5161e-06 - 2s/epoch - 1ms/step\n",
      "Epoch 25/50\n",
      "1309/1309 - 2s - loss: 9.5565e-06 - 2s/epoch - 1ms/step\n",
      "Epoch 26/50\n",
      "1309/1309 - 2s - loss: 8.6735e-06 - 2s/epoch - 1ms/step\n",
      "Epoch 27/50\n",
      "1309/1309 - 2s - loss: 9.3528e-06 - 2s/epoch - 1ms/step\n",
      "Epoch 28/50\n",
      "1309/1309 - 2s - loss: 8.3481e-06 - 2s/epoch - 1ms/step\n",
      "Epoch 29/50\n",
      "1309/1309 - 2s - loss: 9.1766e-06 - 2s/epoch - 1ms/step\n",
      "Epoch 30/50\n",
      "1309/1309 - 2s - loss: 6.5693e-06 - 2s/epoch - 1ms/step\n",
      "Epoch 31/50\n",
      "1309/1309 - 2s - loss: 9.4033e-06 - 2s/epoch - 1ms/step\n",
      "Epoch 32/50\n",
      "1309/1309 - 2s - loss: 6.4436e-06 - 2s/epoch - 1ms/step\n",
      "Epoch 33/50\n",
      "1309/1309 - 2s - loss: 5.9951e-06 - 2s/epoch - 1ms/step\n",
      "Epoch 34/50\n",
      "1309/1309 - 2s - loss: 9.9648e-06 - 2s/epoch - 1ms/step\n",
      "Epoch 35/50\n",
      "1309/1309 - 2s - loss: 5.9377e-06 - 2s/epoch - 1ms/step\n",
      "Epoch 36/50\n",
      "1309/1309 - 2s - loss: 7.4153e-06 - 2s/epoch - 1ms/step\n",
      "Epoch 37/50\n",
      "1309/1309 - 2s - loss: 6.0174e-06 - 2s/epoch - 1ms/step\n",
      "Epoch 38/50\n",
      "1309/1309 - 2s - loss: 8.0968e-06 - 2s/epoch - 1ms/step\n",
      "Epoch 39/50\n",
      "1309/1309 - 2s - loss: 7.4005e-06 - 2s/epoch - 1ms/step\n",
      "Epoch 40/50\n",
      "1309/1309 - 2s - loss: 9.8737e-06 - 2s/epoch - 1ms/step\n",
      "Epoch 41/50\n",
      "1309/1309 - 2s - loss: 5.5530e-06 - 2s/epoch - 1ms/step\n",
      "Epoch 42/50\n",
      "1309/1309 - 2s - loss: 5.1914e-06 - 2s/epoch - 1ms/step\n",
      "Epoch 43/50\n",
      "1309/1309 - 2s - loss: 1.0209e-05 - 2s/epoch - 1ms/step\n",
      "Epoch 44/50\n",
      "1309/1309 - 2s - loss: 4.4868e-06 - 2s/epoch - 1ms/step\n",
      "Epoch 45/50\n",
      "1309/1309 - 2s - loss: 5.6211e-06 - 2s/epoch - 1ms/step\n",
      "Epoch 46/50\n",
      "1309/1309 - 2s - loss: 5.8766e-06 - 2s/epoch - 1ms/step\n",
      "Epoch 47/50\n",
      "1309/1309 - 2s - loss: 8.1476e-06 - 2s/epoch - 1ms/step\n",
      "Epoch 48/50\n",
      "1309/1309 - 2s - loss: 5.9687e-06 - 2s/epoch - 1ms/step\n",
      "Epoch 49/50\n",
      "1309/1309 - 2s - loss: 5.4388e-06 - 2s/epoch - 1ms/step\n",
      "Epoch 50/50\n",
      "1309/1309 - 2s - loss: 5.9378e-06 - 2s/epoch - 1ms/step\n"
     ]
    },
    {
     "data": {
      "text/plain": [
       "<keras.src.callbacks.History at 0x18f203b1750>"
      ]
     },
     "execution_count": 12,
     "metadata": {},
     "output_type": "execute_result"
    }
   ],
   "source": [
    "# Fit the model\n",
    "model.fit(X_train, y_train, epochs=50, batch_size=1, verbose=2)\n"
   ]
  },
  {
   "cell_type": "code",
   "execution_count": 13,
   "id": "35df0b9d",
   "metadata": {},
   "outputs": [
    {
     "name": "stdout",
     "output_type": "stream",
     "text": [
      "41/41 [==============================] - 1s 1ms/step\n",
      "11/11 [==============================] - 0s 806us/step\n"
     ]
    }
   ],
   "source": [
    "# Make predictions\n",
    "train_predict = model.predict(X_train)\n",
    "test_predict = model.predict(X_test)"
   ]
  },
  {
   "cell_type": "code",
   "execution_count": 14,
   "id": "ebc7f5bf",
   "metadata": {},
   "outputs": [],
   "source": [
    "# Invert predictions back to normal values\n",
    "train_predict = scaler_y.inverse_transform(train_predict)\n",
    "y_train = scaler_y.inverse_transform(y_train)\n",
    "test_predict = scaler_y.inverse_transform(test_predict)\n",
    "y_test = scaler_y.inverse_transform(y_test)"
   ]
  },
  {
   "cell_type": "code",
   "execution_count": null,
   "id": "3592d366",
   "metadata": {},
   "outputs": [],
   "source": []
  },
  {
   "cell_type": "code",
   "execution_count": 15,
   "id": "f82b690f",
   "metadata": {},
   "outputs": [
    {
     "data": {
      "image/png": "[encoded data removed]",
      "text/plain": [
       "<Figure size 1000x500 with 1 Axes>"
      ]
     },
     "metadata": {},
     "output_type": "display_data"
    }
   ],
   "source": [
    "# Plot the actual and predicted prices\n",
    "plt.figure(figsize=(10,5))\n",
    "plt.plot(y_test, color='blue', label='Actual FTSE Stock Price')\n",
    "plt.plot(test_predict, color='red', label='Predicted FTSE Stock Price')\n",
    "plt.title('FTSE Stock Price Prediction')\n",
    "plt.xlabel('Time')\n",
    "plt.ylabel('FTSE Stock Price')\n",
    "plt.legend()\n",
    "plt.show()"
   ]
  },
  {
   "cell_type": "markdown",
   "id": "7b07855d",
   "metadata": {},
   "source": [
    "# EVALUATION METRICS\n",
    "This metrics are used to evaluate the performance of the models compared. Cross validation is specifically included for more robust measure in comparing the various models performance."
   ]
  },
  {
   "cell_type": "code",
   "execution_count": 16,
   "id": "83881772",
   "metadata": {},
   "outputs": [
    {
     "name": "stdout",
     "output_type": "stream",
     "text": [
      "Train MSE: 21.283684291577316\n",
      "Test MSE: 15.018598251953357\n"
     ]
    }
   ],
   "source": [
    "# Calculate Mean Squared Error (MSE)\n",
    "train_mse = mean_squared_error(y_train, train_predict)\n",
    "test_mse = mean_squared_error(y_test, test_predict)\n",
    "print(f'Train MSE: {train_mse}')\n",
    "print(f'Test MSE: {test_mse}')"
   ]
  },
  {
   "cell_type": "code",
   "execution_count": 17,
   "id": "4972db52",
   "metadata": {},
   "outputs": [
    {
     "name": "stdout",
     "output_type": "stream",
     "text": [
      "Train Score: 4.613424356329831 RMSE\n",
      "Test Score: 3.875383626423758 RMSE\n"
     ]
    }
   ],
   "source": [
    "# Calculate root mean squared error\n",
    "train_score = np.sqrt(mean_squared_error(y_train, train_predict))\n",
    "print(f'Train Score: {train_score} RMSE')\n",
    "test_score = np.sqrt(mean_squared_error(y_test, test_predict))\n",
    "print(f'Test Score: {test_score} RMSE')"
   ]
  },
  {
   "cell_type": "code",
   "execution_count": 18,
   "id": "998e6e11",
   "metadata": {},
   "outputs": [
    {
     "name": "stdout",
     "output_type": "stream",
     "text": [
      "Train MAPE: 0.07230504807939901\n",
      "Test MAPE: 0.04987341300269848\n"
     ]
    }
   ],
   "source": [
    "# Calculate Mean Absolute Percentage Error (MAPE)\n",
    "def mean_absolute_percentage_error(y_true, y_pred): \n",
    "    y_true, y_pred = np.array(y_true), np.array(y_pred)\n",
    "    return np.mean(np.abs((y_true - y_pred) / y_true)) * 100\n",
    "\n",
    "train_mape = mean_absolute_percentage_error(y_train, train_predict)\n",
    "test_mape = mean_absolute_percentage_error(y_test, test_predict)\n",
    "print(f'Train MAPE: {train_mape}')\n",
    "print(f'Test MAPE: {test_mape}')\n",
    "\n"
   ]
  },
  {
   "cell_type": "code",
   "execution_count": 19,
   "id": "4657f901",
   "metadata": {},
   "outputs": [
    {
     "name": "stderr",
     "output_type": "stream",
     "text": [
      "C:\\Users\\ekefe\\anaconda3\\Lib\\site-packages\\scikeras\\wrappers.py:915: UserWarning: ``build_fn`` will be renamed to ``model`` in a future release, at which point use of ``build_fn`` will raise an Error instead.\n",
      "  X, y = self._initialize(X, y)\n",
      "C:\\Users\\ekefe\\anaconda3\\Lib\\site-packages\\scikeras\\wrappers.py:915: UserWarning: ``build_fn`` will be renamed to ``model`` in a future release, at which point use of ``build_fn`` will raise an Error instead.\n",
      "  X, y = self._initialize(X, y)\n",
      "C:\\Users\\ekefe\\anaconda3\\Lib\\site-packages\\scikeras\\wrappers.py:915: UserWarning: ``build_fn`` will be renamed to ``model`` in a future release, at which point use of ``build_fn`` will raise an Error instead.\n",
      "  X, y = self._initialize(X, y)\n",
      "C:\\Users\\ekefe\\anaconda3\\Lib\\site-packages\\scikeras\\wrappers.py:915: UserWarning: ``build_fn`` will be renamed to ``model`` in a future release, at which point use of ``build_fn`` will raise an Error instead.\n",
      "  X, y = self._initialize(X, y)\n",
      "C:\\Users\\ekefe\\anaconda3\\Lib\\site-packages\\scikeras\\wrappers.py:915: UserWarning: ``build_fn`` will be renamed to ``model`` in a future release, at which point use of ``build_fn`` will raise an Error instead.\n",
      "  X, y = self._initialize(X, y)\n"
     ]
    },
    {
     "name": "stdout",
     "output_type": "stream",
     "text": [
      "Cross Validation Mean: 0.9987905931526487, Standard Deviation: 0.001663171012763817\n"
     ]
    }
   ],
   "source": [
    "# Cross Validation\n",
    "def create_model():\n",
    "    model = Sequential()\n",
    "    model.add(LSTM(50, input_shape=(X_train.shape[1], X_train.shape[2])))\n",
    "    model.add(Dense(1))\n",
    "    model.compile(loss='mean_squared_error', optimizer='adam')\n",
    "    return model\n",
    "\n",
    "estimator = KerasRegressor(build_fn=create_model, epochs=50, batch_size=1, verbose=0)\n",
    "kfold = KFold(n_splits=5)\n",
    "results = cross_val_score(estimator, X, y.ravel(), cv=kfold)  # using ravel() to reshape y for compatibility\n",
    "print(f\"Cross Validation Mean: {results.mean()}, Standard Deviation: {results.std()}\")"
   ]
  },
  {
   "cell_type": "code",
   "execution_count": null,
   "id": "ae372743",
   "metadata": {},
   "outputs": [],
   "source": []
  },
  {
   "cell_type": "code",
   "execution_count": null,
   "id": "0535dd98",
   "metadata": {},
   "outputs": [],
   "source": []
  },
  {
   "cell_type": "code",
   "execution_count": null,
   "id": "95f3452f",
   "metadata": {},
   "outputs": [],
   "source": []
  }
 ],
 "metadata": {
  "kernelspec": {
   "display_name": "Python 3 (ipykernel)",
   "language": "python",
   "name": "python3"
  },
  "language_info": {
   "codemirror_mode": {
    "name": "ipython",
    "version": 3
   },
   "file_extension": ".py",
   "mimetype": "text/x-python",
   "name": "python",
   "nbconvert_exporter": "python",
   "pygments_lexer": "ipython3",
   "version": "3.11.3"
  }
 },
 "nbformat": 4,
 "nbformat_minor": 5
}
